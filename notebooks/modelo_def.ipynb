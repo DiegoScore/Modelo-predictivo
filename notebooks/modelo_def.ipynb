{
 "cells": [
  {
   "cell_type": "code",
   "execution_count": 1,
   "metadata": {},
   "outputs": [],
   "source": [
    "import tensorflow as tf\n",
    "from tensorflow import keras\n",
    "from tensorflow.keras.preprocessing.image import ImageDataGenerator, img_to_array, load_img\n",
    "from tensorflow.keras.applications import MobileNetV2\n",
    "from tensorflow.keras.layers import Dense, GlobalAveragePooling2D, Dropout\n",
    "from tensorflow.keras.models import Model\n",
    "from tensorflow.keras.callbacks import EarlyStopping\n",
    "import numpy as np\n",
    "import os\n",
    "from sklearn.metrics import classification_report, confusion_matrix\n",
    "import matplotlib.pyplot as plt\n",
    "import seaborn as sns\n",
    "\n"
   ]
  },
  {
   "cell_type": "code",
   "execution_count": 2,
   "metadata": {},
   "outputs": [],
   "source": [
    "data_dir = \"data/dataset_defectos\"\n",
    "categorias = [\"mancha\",\"motita\"]\n",
    "augmented_dir = \"data/dataset_defectos_aumentado\""
   ]
  },
  {
   "cell_type": "code",
   "execution_count": 3,
   "metadata": {},
   "outputs": [],
   "source": [
    "if not os.path.exists(augmented_dir):\n",
    "    os.makedirs(augmented_dir)\n",
    "    for category in categorias:\n",
    "        os.makedirs(os.path.join(augmented_dir, category))"
   ]
  },
  {
   "cell_type": "code",
   "execution_count": 4,
   "metadata": {},
   "outputs": [],
   "source": [
    "# Parámetros\n",
    "target_size = (224, 224)\n",
    "batch_size = 32\n",
    "num_augmented_images = {\"mancha\": 20, \"motita\": 20}"
   ]
  },
  {
   "cell_type": "code",
   "execution_count": 5,
   "metadata": {},
   "outputs": [],
   "source": [
    "augmentor = ImageDataGenerator(\n",
    "    rescale=1.0/255,\n",
    "    rotation_range=40,\n",
    "    width_shift_range=0.3,\n",
    "    height_shift_range=0.3,\n",
    "    shear_range=0.3,\n",
    "    zoom_range=0.4,\n",
    "    brightness_range=[0.8, 1.2],\n",
    "    horizontal_flip=True,\n",
    "    fill_mode='nearest'\n",
    ")\n",
    "\n",
    "for category in categorias:\n",
    "    input_folder = os.path.join(data_dir, category)\n",
    "    output_folder = os.path.join(augmented_dir, category)\n",
    "\n",
    "    for filename in os.listdir(input_folder):\n",
    "        img_path = os.path.join(input_folder, filename)\n",
    "        img = load_img(img_path, target_size=(224, 224))\n",
    "        img_array = img_to_array(img)\n",
    "        img_array = img_array.reshape((1,) + img_array.shape)\n",
    "\n",
    "        i = 0\n",
    "        for batch in augmentor.flow(\n",
    "            img_array,\n",
    "            batch_size=1,\n",
    "            save_to_dir=output_folder,\n",
    "            save_prefix=\"aug\",\n",
    "            save_format=\"jpeg\"\n",
    "        ):\n",
    "            i += 1\n",
    "            if i >= num_augmented_images[category]:\n",
    "                break"
   ]
  },
  {
   "cell_type": "code",
   "execution_count": 6,
   "metadata": {},
   "outputs": [
    {
     "name": "stdout",
     "output_type": "stream",
     "text": [
      "Found 3775 images belonging to 2 classes.\n",
      "Found 943 images belonging to 2 classes.\n"
     ]
    }
   ],
   "source": [
    "gen_defectos = ImageDataGenerator(validation_split=0.2, rescale=1.0/255)\n",
    "\n",
    "train_defectos = gen_defectos.flow_from_directory(\n",
    "    augmented_dir,\n",
    "    target_size=target_size,\n",
    "    batch_size=batch_size,\n",
    "    class_mode='categorical',\n",
    "    subset='training'\n",
    ")\n",
    "\n",
    "val_defectos = gen_defectos.flow_from_directory(\n",
    "    augmented_dir,\n",
    "    target_size=target_size,\n",
    "    batch_size=batch_size,\n",
    "    class_mode='categorical',\n",
    "    subset='validation'\n",
    ")"
   ]
  },
  {
   "cell_type": "code",
   "execution_count": 7,
   "metadata": {},
   "outputs": [],
   "source": [
    "X_val_def, y_val_def = [], []\n",
    "for i in range(len(val_defectos)):\n",
    "    x_batch, y_batch = val_defectos[i]\n",
    "    X_val_def.extend(x_batch)\n",
    "    y_val_def.extend(y_batch)\n",
    "\n",
    "X_val_def = np.array(X_val_def)\n",
    "y_val_def = np.array(y_val_def)"
   ]
  },
  {
   "cell_type": "code",
   "execution_count": 8,
   "metadata": {},
   "outputs": [],
   "source": [
    "base_defectos = MobileNetV2(weights='imagenet', include_top=False, input_shape=(224, 224, 3))\n",
    "base_defectos.trainable = True\n",
    "for layer in base_defectos.layers[:140]:\n",
    "    layer.trainable = False"
   ]
  },
  {
   "cell_type": "code",
   "execution_count": 9,
   "metadata": {},
   "outputs": [],
   "source": [
    "x = base_defectos.output\n",
    "x = GlobalAveragePooling2D()(x)\n",
    "x = Dense(128, activation='relu')(x)\n",
    "x = Dropout(0.4)(x)\n",
    "x = Dense(64, activation='relu')(x)\n",
    "out = Dense(len(categorias), activation='softmax')(x)\n",
    "\n",
    "modelo_defectos = Model(inputs=base_defectos.input, outputs=out)"
   ]
  },
  {
   "cell_type": "code",
   "execution_count": 10,
   "metadata": {},
   "outputs": [],
   "source": [
    "modelo_defectos.compile(optimizer=keras.optimizers.AdamW(1e-5), loss='categorical_crossentropy', metrics=['accuracy'])\n",
    "early_stopping = EarlyStopping(monitor='val_loss', patience=5, restore_best_weights=True)"
   ]
  },
  {
   "cell_type": "code",
   "execution_count": 11,
   "metadata": {},
   "outputs": [
    {
     "name": "stdout",
     "output_type": "stream",
     "text": [
      "Epoch 1/70\n",
      "118/118 [==============================] - 41s 263ms/step - loss: 0.6833 - accuracy: 0.5828 - val_loss: 0.6827 - val_accuracy: 0.5769\n",
      "Epoch 2/70\n",
      "118/118 [==============================] - 22s 186ms/step - loss: 0.5531 - accuracy: 0.7264 - val_loss: 0.6025 - val_accuracy: 0.6829\n",
      "Epoch 3/70\n",
      "118/118 [==============================] - 23s 191ms/step - loss: 0.4775 - accuracy: 0.7875 - val_loss: 0.5433 - val_accuracy: 0.7200\n",
      "Epoch 4/70\n",
      "118/118 [==============================] - 23s 197ms/step - loss: 0.4271 - accuracy: 0.8283 - val_loss: 0.4899 - val_accuracy: 0.7519\n",
      "Epoch 5/70\n",
      "118/118 [==============================] - 23s 192ms/step - loss: 0.3826 - accuracy: 0.8456 - val_loss: 0.4568 - val_accuracy: 0.7720\n",
      "Epoch 6/70\n",
      "118/118 [==============================] - 24s 202ms/step - loss: 0.3410 - accuracy: 0.8654 - val_loss: 0.4157 - val_accuracy: 0.8038\n",
      "Epoch 7/70\n",
      "118/118 [==============================] - 22s 187ms/step - loss: 0.2973 - accuracy: 0.8940 - val_loss: 0.3813 - val_accuracy: 0.8303\n",
      "Epoch 8/70\n",
      "118/118 [==============================] - 22s 187ms/step - loss: 0.2777 - accuracy: 0.8985 - val_loss: 0.3537 - val_accuracy: 0.8484\n",
      "Epoch 9/70\n",
      "118/118 [==============================] - 23s 197ms/step - loss: 0.2399 - accuracy: 0.9136 - val_loss: 0.3380 - val_accuracy: 0.8664\n",
      "Epoch 10/70\n",
      "118/118 [==============================] - 23s 193ms/step - loss: 0.2238 - accuracy: 0.9213 - val_loss: 0.3123 - val_accuracy: 0.8865\n",
      "Epoch 11/70\n",
      "118/118 [==============================] - 24s 201ms/step - loss: 0.1972 - accuracy: 0.9322 - val_loss: 0.2895 - val_accuracy: 0.8918\n",
      "Epoch 12/70\n",
      "118/118 [==============================] - 22s 190ms/step - loss: 0.1763 - accuracy: 0.9430 - val_loss: 0.2649 - val_accuracy: 0.9024\n",
      "Epoch 13/70\n",
      "118/118 [==============================] - 23s 196ms/step - loss: 0.1615 - accuracy: 0.9428 - val_loss: 0.2478 - val_accuracy: 0.9099\n",
      "Epoch 14/70\n",
      "118/118 [==============================] - 23s 192ms/step - loss: 0.1426 - accuracy: 0.9510 - val_loss: 0.2415 - val_accuracy: 0.9099\n",
      "Epoch 15/70\n",
      "118/118 [==============================] - 23s 191ms/step - loss: 0.1277 - accuracy: 0.9619 - val_loss: 0.2145 - val_accuracy: 0.9247\n",
      "Epoch 16/70\n",
      "118/118 [==============================] - 22s 185ms/step - loss: 0.1125 - accuracy: 0.9677 - val_loss: 0.1935 - val_accuracy: 0.9300\n",
      "Epoch 17/70\n",
      "118/118 [==============================] - 22s 190ms/step - loss: 0.1043 - accuracy: 0.9677 - val_loss: 0.1798 - val_accuracy: 0.9332\n",
      "Epoch 18/70\n",
      "118/118 [==============================] - 23s 195ms/step - loss: 0.0923 - accuracy: 0.9722 - val_loss: 0.1659 - val_accuracy: 0.9343\n",
      "Epoch 19/70\n",
      "118/118 [==============================] - 23s 202ms/step - loss: 0.0792 - accuracy: 0.9770 - val_loss: 0.1658 - val_accuracy: 0.9406\n",
      "Epoch 20/70\n",
      "118/118 [==============================] - 22s 190ms/step - loss: 0.0760 - accuracy: 0.9775 - val_loss: 0.1604 - val_accuracy: 0.9438\n",
      "Epoch 21/70\n",
      "118/118 [==============================] - 22s 189ms/step - loss: 0.0749 - accuracy: 0.9780 - val_loss: 0.1531 - val_accuracy: 0.9459\n",
      "Epoch 22/70\n",
      "118/118 [==============================] - 22s 190ms/step - loss: 0.0606 - accuracy: 0.9844 - val_loss: 0.1482 - val_accuracy: 0.9459\n",
      "Epoch 23/70\n",
      "118/118 [==============================] - 25s 209ms/step - loss: 0.0552 - accuracy: 0.9865 - val_loss: 0.1422 - val_accuracy: 0.9470\n",
      "Epoch 24/70\n",
      "118/118 [==============================] - 24s 208ms/step - loss: 0.0504 - accuracy: 0.9875 - val_loss: 0.1420 - val_accuracy: 0.9480\n",
      "Epoch 25/70\n",
      "118/118 [==============================] - 24s 205ms/step - loss: 0.0449 - accuracy: 0.9897 - val_loss: 0.1233 - val_accuracy: 0.9586\n",
      "Epoch 26/70\n",
      "118/118 [==============================] - 24s 203ms/step - loss: 0.0390 - accuracy: 0.9902 - val_loss: 0.1163 - val_accuracy: 0.9576\n",
      "Epoch 27/70\n",
      "118/118 [==============================] - 23s 198ms/step - loss: 0.0346 - accuracy: 0.9931 - val_loss: 0.1137 - val_accuracy: 0.9608\n",
      "Epoch 28/70\n",
      "118/118 [==============================] - 24s 199ms/step - loss: 0.0363 - accuracy: 0.9915 - val_loss: 0.1192 - val_accuracy: 0.9597\n",
      "Epoch 29/70\n",
      "118/118 [==============================] - 25s 210ms/step - loss: 0.0280 - accuracy: 0.9942 - val_loss: 0.1187 - val_accuracy: 0.9608\n",
      "Epoch 30/70\n",
      "118/118 [==============================] - 24s 202ms/step - loss: 0.0294 - accuracy: 0.9928 - val_loss: 0.1224 - val_accuracy: 0.9586\n",
      "Epoch 31/70\n",
      "118/118 [==============================] - 24s 200ms/step - loss: 0.0301 - accuracy: 0.9921 - val_loss: 0.1076 - val_accuracy: 0.9650\n",
      "Epoch 32/70\n",
      "118/118 [==============================] - 23s 198ms/step - loss: 0.0229 - accuracy: 0.9952 - val_loss: 0.1071 - val_accuracy: 0.9703\n",
      "Epoch 33/70\n",
      "118/118 [==============================] - 24s 201ms/step - loss: 0.0215 - accuracy: 0.9947 - val_loss: 0.1083 - val_accuracy: 0.9682\n",
      "Epoch 34/70\n",
      "118/118 [==============================] - 24s 206ms/step - loss: 0.0200 - accuracy: 0.9950 - val_loss: 0.1009 - val_accuracy: 0.9650\n",
      "Epoch 35/70\n",
      "118/118 [==============================] - 25s 213ms/step - loss: 0.0206 - accuracy: 0.9968 - val_loss: 0.1058 - val_accuracy: 0.9692\n",
      "Epoch 36/70\n",
      "118/118 [==============================] - 24s 200ms/step - loss: 0.0142 - accuracy: 0.9987 - val_loss: 0.1042 - val_accuracy: 0.9692\n",
      "Epoch 37/70\n",
      "118/118 [==============================] - 25s 212ms/step - loss: 0.0178 - accuracy: 0.9960 - val_loss: 0.1021 - val_accuracy: 0.9639\n",
      "Epoch 38/70\n",
      "118/118 [==============================] - 24s 206ms/step - loss: 0.0150 - accuracy: 0.9981 - val_loss: 0.0957 - val_accuracy: 0.9692\n",
      "Epoch 39/70\n",
      "118/118 [==============================] - 23s 197ms/step - loss: 0.0155 - accuracy: 0.9963 - val_loss: 0.1065 - val_accuracy: 0.9661\n",
      "Epoch 40/70\n",
      "118/118 [==============================] - 23s 196ms/step - loss: 0.0113 - accuracy: 0.9987 - val_loss: 0.1027 - val_accuracy: 0.9671\n",
      "Epoch 41/70\n",
      "118/118 [==============================] - 25s 210ms/step - loss: 0.0127 - accuracy: 0.9974 - val_loss: 0.1033 - val_accuracy: 0.9671\n",
      "Epoch 42/70\n",
      "118/118 [==============================] - 23s 197ms/step - loss: 0.0103 - accuracy: 0.9984 - val_loss: 0.1033 - val_accuracy: 0.9682\n",
      "Epoch 43/70\n",
      "118/118 [==============================] - 24s 204ms/step - loss: 0.0123 - accuracy: 0.9979 - val_loss: 0.0972 - val_accuracy: 0.9714\n",
      "Modelo de defectos entrenado y guardado.\n"
     ]
    }
   ],
   "source": [
    "modelo_defectos.fit(train_defectos, validation_data=val_defectos, epochs=70, callbacks=[early_stopping])\n",
    "modelo_defectos.save(\"models/modelo_defectos.keras\")\n",
    "print(\"Modelo de defectos entrenado y guardado.\")"
   ]
  },
  {
   "cell_type": "code",
   "execution_count": 12,
   "metadata": {},
   "outputs": [
    {
     "name": "stderr",
     "output_type": "stream",
     "text": [
      "2025-04-16 00:41:52.423264: W tensorflow/tsl/framework/cpu_allocator_impl.cc:83] Allocation of 567791616 exceeds 10% of free system memory.\n",
      "2025-04-16 00:41:53.109906: W tensorflow/tsl/framework/cpu_allocator_impl.cc:83] Allocation of 567791616 exceeds 10% of free system memory.\n"
     ]
    },
    {
     "name": "stdout",
     "output_type": "stream",
     "text": [
      "30/30 [==============================] - 3s 70ms/step\n"
     ]
    },
    {
     "data": {
      "image/png": "[encoded data removed]",
      "text/plain": [
       "<Figure size 600x500 with 2 Axes>"
      ]
     },
     "metadata": {},
     "output_type": "display_data"
    },
    {
     "name": "stdout",
     "output_type": "stream",
     "text": [
      "              precision    recall  f1-score   support\n",
      "\n",
      "      mancha       0.97      0.96      0.97       451\n",
      "      motita       0.97      0.97      0.97       492\n",
      "\n",
      "    accuracy                           0.97       943\n",
      "   macro avg       0.97      0.97      0.97       943\n",
      "weighted avg       0.97      0.97      0.97       943\n",
      "\n"
     ]
    }
   ],
   "source": [
    "model = keras.models.load_model(\"models/modelo_defectos.keras\")\n",
    "\n",
    "y_pred_def = np.argmax(modelo_defectos.predict(X_val_def), axis=1)\n",
    "y_true_def = np.argmax(y_val_def, axis=1)\n",
    "\n",
    "cm = confusion_matrix(y_true_def, y_pred_def)\n",
    "plt.figure(figsize=(6, 5))\n",
    "sns.heatmap(cm, annot=True, fmt='d', cmap='Purples', xticklabels=categorias, yticklabels=categorias)\n",
    "plt.xlabel(\"Predicción\")\n",
    "plt.ylabel(\"Real\")\n",
    "plt.title(\"Matriz de Confusión - Modelo de Defectos\")\n",
    "plt.show()\n",
    "\n",
    "print(classification_report(y_true_def, y_pred_def, target_names=categorias))"
   ]
  }
 ],
 "metadata": {
  "kernelspec": {
   "display_name": "Python 3 (ipykernel)",
   "language": "python",
   "name": "python3"
  },
  "language_info": {
   "codemirror_mode": {
    "name": "ipython",
    "version": 3
   },
   "file_extension": ".py",
   "mimetype": "text/x-python",
   "name": "python",
   "nbconvert_exporter": "python",
   "pygments_lexer": "ipython3",
   "version": "3.8.10"
  }
 },
 "nbformat": 4,
 "nbformat_minor": 2
}
