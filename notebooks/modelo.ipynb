{
 "cells": [
  {
   "cell_type": "code",
   "execution_count": 1,
   "metadata": {},
   "outputs": [],
   "source": [
    "import tensorflow as tf\n",
    "from tensorflow import keras\n",
    "from tensorflow.keras.preprocessing.image import ImageDataGenerator\n",
    "from tensorflow.keras.applications import MobileNetV2\n",
    "from tensorflow.keras.layers import Dense, GlobalAveragePooling2D, Dropout\n",
    "from tensorflow.keras.models import Model\n",
    "from tensorflow.keras.callbacks import EarlyStopping\n",
    "from tensorflow.keras.preprocessing.image import ImageDataGenerator, img_to_array, load_img\n",
    "import numpy as np\n",
    "import matplotlib.pyplot as plt\n",
    "from sklearn.metrics import confusion_matrix, classification_report\n",
    "import seaborn as sns\n",
    "import os"
   ]
  },
  {
   "cell_type": "code",
   "execution_count": 3,
   "metadata": {},
   "outputs": [],
   "source": [
    "data_dir = \"data/dataset_ropa\"\n",
    "categorias = [\"tiki\", \"casi_tiki\", \"descarte\"]\n",
    "augmented_dir = \"data/dataset_ropa_aumentado\""
   ]
  },
  {
   "cell_type": "code",
   "execution_count": 8,
   "metadata": {},
   "outputs": [],
   "source": [
    "if not os.path.exists(augmented_dir):\n",
    "    os.makedirs(augmented_dir)\n",
    "    for category in categorias:\n",
    "        os.makedirs(os.path.join(augmented_dir, category))"
   ]
  },
  {
   "cell_type": "code",
   "execution_count": 4,
   "metadata": {},
   "outputs": [],
   "source": [
    "# Parámetros\n",
    "target_size = (224, 224)\n",
    "batch_size = 32\n",
    "num_augmented_images = {\"tiki\": 15, \"casi_tiki\": 10, \"descarte\": 20}"
   ]
  },
  {
   "cell_type": "code",
   "execution_count": null,
   "metadata": {},
   "outputs": [
    {
     "ename": "KeyboardInterrupt",
     "evalue": "",
     "output_type": "error",
     "traceback": [
      "\u001b[1;31m---------------------------------------------------------------------------\u001b[0m",
      "\u001b[1;31mKeyboardInterrupt\u001b[0m                         Traceback (most recent call last)",
      "Cell \u001b[1;32mIn[11], line 20\u001b[0m\n\u001b[0;32m     18\u001b[0m \u001b[38;5;28;01mfor\u001b[39;00m filename \u001b[38;5;129;01min\u001b[39;00m os\u001b[38;5;241m.\u001b[39mlistdir(input_folder):\n\u001b[0;32m     19\u001b[0m     img_path \u001b[38;5;241m=\u001b[39m os\u001b[38;5;241m.\u001b[39mpath\u001b[38;5;241m.\u001b[39mjoin(input_folder, filename)\n\u001b[1;32m---> 20\u001b[0m     img \u001b[38;5;241m=\u001b[39m \u001b[43mload_img\u001b[49m\u001b[43m(\u001b[49m\u001b[43mimg_path\u001b[49m\u001b[43m,\u001b[49m\u001b[43m \u001b[49m\u001b[43mtarget_size\u001b[49m\u001b[38;5;241;43m=\u001b[39;49m\u001b[43mtarget_size\u001b[49m\u001b[43m)\u001b[49m\n\u001b[0;32m     21\u001b[0m     img_array \u001b[38;5;241m=\u001b[39m img_to_array(img)\n\u001b[0;32m     22\u001b[0m     img_array \u001b[38;5;241m=\u001b[39m img_array\u001b[38;5;241m.\u001b[39mreshape((\u001b[38;5;241m1\u001b[39m,) \u001b[38;5;241m+\u001b[39m img_array\u001b[38;5;241m.\u001b[39mshape)\n",
      "File \u001b[1;32mc:\\Users\\bulla\\AppData\\Local\\Programs\\Python\\Python312\\Lib\\site-packages\\keras\\src\\utils\\image_utils.py:236\u001b[0m, in \u001b[0;36mload_img\u001b[1;34m(path, color_mode, target_size, interpolation, keep_aspect_ratio)\u001b[0m\n\u001b[0;32m    234\u001b[0m         path \u001b[38;5;241m=\u001b[39m \u001b[38;5;28mstr\u001b[39m(path\u001b[38;5;241m.\u001b[39mresolve())\n\u001b[0;32m    235\u001b[0m     \u001b[38;5;28;01mwith\u001b[39;00m \u001b[38;5;28mopen\u001b[39m(path, \u001b[38;5;124m\"\u001b[39m\u001b[38;5;124mrb\u001b[39m\u001b[38;5;124m\"\u001b[39m) \u001b[38;5;28;01mas\u001b[39;00m f:\n\u001b[1;32m--> 236\u001b[0m         img \u001b[38;5;241m=\u001b[39m pil_image\u001b[38;5;241m.\u001b[39mopen(io\u001b[38;5;241m.\u001b[39mBytesIO(\u001b[43mf\u001b[49m\u001b[38;5;241;43m.\u001b[39;49m\u001b[43mread\u001b[49m\u001b[43m(\u001b[49m\u001b[43m)\u001b[49m))\n\u001b[0;32m    237\u001b[0m \u001b[38;5;28;01melse\u001b[39;00m:\n\u001b[0;32m    238\u001b[0m     \u001b[38;5;28;01mraise\u001b[39;00m \u001b[38;5;167;01mTypeError\u001b[39;00m(\n\u001b[0;32m    239\u001b[0m         \u001b[38;5;124mf\u001b[39m\u001b[38;5;124m\"\u001b[39m\u001b[38;5;124mpath should be path-like or io.BytesIO, not \u001b[39m\u001b[38;5;132;01m{\u001b[39;00m\u001b[38;5;28mtype\u001b[39m(path)\u001b[38;5;132;01m}\u001b[39;00m\u001b[38;5;124m\"\u001b[39m\n\u001b[0;32m    240\u001b[0m     )\n",
      "\u001b[1;31mKeyboardInterrupt\u001b[0m: "
     ]
    }
   ],
   "source": [
    "augmentor = ImageDataGenerator(\n",
    "    rescale=1.0/255,\n",
    "    rotation_range=40,\n",
    "    width_shift_range=0.3,\n",
    "    height_shift_range=0.3,\n",
    "    shear_range=0.3,\n",
    "    zoom_range=0.4,\n",
    "    brightness_range=[0.8, 1.2],\n",
    "    horizontal_flip=True,\n",
    "    fill_mode='nearest'\n",
    ")\n",
    "\n",
    "for category in categorias:\n",
    "    input_folder = os.path.join(data_dir, category)\n",
    "    output_folder = os.path.join(augmented_dir, category)\n",
    "\n",
    "    for filename in os.listdir(input_folder):\n",
    "        img_path = os.path.join(input_folder, filename)\n",
    "        img = load_img(img_path, target_size=(224, 224))\n",
    "        img_array = img_to_array(img)\n",
    "        img_array = img_array.reshape((1,) + img_array.shape)\n",
    "\n",
    "        i = 0\n",
    "        for batch in augmentor.flow(\n",
    "            img_array,\n",
    "            batch_size=1,\n",
    "            save_to_dir=output_folder,\n",
    "            save_prefix=\"aug\",\n",
    "            save_format=\"jpeg\"\n",
    "        ):\n",
    "            i += 1\n",
    "            if i >= num_augmented_images[category]:\n",
    "                break"
   ]
  },
  {
   "cell_type": "code",
   "execution_count": 5,
   "metadata": {},
   "outputs": [
    {
     "name": "stdout",
     "output_type": "stream",
     "text": [
      "Found 9682 images belonging to 3 classes.\n",
      "Found 2420 images belonging to 3 classes.\n"
     ]
    }
   ],
   "source": [
    "# Generadores de datos\n",
    "gen_datagen = ImageDataGenerator(\n",
    "    validation_split=0.2\n",
    ")\n",
    "\n",
    "train_generator = gen_datagen.flow_from_directory(\n",
    "    augmented_dir,\n",
    "    target_size=target_size,\n",
    "    batch_size=batch_size,\n",
    "    class_mode='categorical',\n",
    "    subset='training'\n",
    ")\n",
    "\n",
    "val_generator = gen_datagen.flow_from_directory(\n",
    "    augmented_dir,\n",
    "    target_size=target_size,\n",
    "    batch_size=batch_size,\n",
    "    class_mode='categorical',\n",
    "    subset='validation'\n",
    ")"
   ]
  },
  {
   "cell_type": "code",
   "execution_count": 6,
   "metadata": {},
   "outputs": [],
   "source": [
    "X_val, y_val = [], []\n",
    "\n",
    "for i in range(len(val_generator)):\n",
    "    x_batch, y_batch = val_generator[i]\n",
    "    X_val.extend(x_batch)\n",
    "    y_val.extend(y_batch)\n",
    "\n",
    "X_val = np.array(X_val)\n",
    "y_val = np.array(y_val)"
   ]
  },
  {
   "cell_type": "code",
   "execution_count": 7,
   "metadata": {},
   "outputs": [
    {
     "name": "stdout",
     "output_type": "stream",
     "text": [
      "Downloading data from https://storage.googleapis.com/tensorflow/keras-applications/mobilenet_v2/mobilenet_v2_weights_tf_dim_ordering_tf_kernels_1.0_224_no_top.h5\n",
      "9406464/9406464 [==============================] - 1s 0us/step\n"
     ]
    }
   ],
   "source": [
    "base_model = MobileNetV2(weights='imagenet', include_top=False, input_shape=(224, 224, 3))\n",
    "base_model.trainable = True \n",
    "\n",
    "for layer in base_model.layers[:140]:\n",
    "    layer.trainable = False\n"
   ]
  },
  {
   "cell_type": "code",
   "execution_count": 8,
   "metadata": {},
   "outputs": [],
   "source": [
    "x = base_model.output\n",
    "x = GlobalAveragePooling2D()(x)\n",
    "x = Dense(256, activation='relu')(x)\n",
    "x = Dropout(0.5)(x)\n",
    "x = Dense(128, activation='relu')(x)\n",
    "x = Dropout(0.5)(x)\n",
    "x = Dense(64, activation='relu')(x)\n",
    "out = Dense(len(categorias), activation='softmax')(x)\n",
    "\n",
    "model = Model(inputs=base_model.input, outputs=out)"
   ]
  },
  {
   "cell_type": "code",
   "execution_count": 9,
   "metadata": {},
   "outputs": [],
   "source": [
    "optimizer = keras.optimizers.AdamW(learning_rate=0.00001)\n",
    "early_stopping = EarlyStopping(monitor='val_loss', patience=5, restore_best_weights=True)\n",
    "model.compile(optimizer=optimizer, loss='categorical_crossentropy', metrics=['accuracy'])"
   ]
  },
  {
   "cell_type": "code",
   "execution_count": 10,
   "metadata": {},
   "outputs": [
    {
     "name": "stdout",
     "output_type": "stream",
     "text": [
      "Epoch 1/50\n",
      "303/303 [==============================] - 163s 499ms/step - loss: 1.0300 - accuracy: 0.4889 - val_loss: 0.9789 - val_accuracy: 0.4967\n",
      "Epoch 2/50\n",
      "303/303 [==============================] - 58s 190ms/step - loss: 0.8437 - accuracy: 0.6032 - val_loss: 0.8419 - val_accuracy: 0.6446\n",
      "Epoch 3/50\n",
      "303/303 [==============================] - 59s 195ms/step - loss: 0.7634 - accuracy: 0.6397 - val_loss: 0.7343 - val_accuracy: 0.7074\n",
      "Epoch 4/50\n",
      "303/303 [==============================] - 60s 197ms/step - loss: 0.7144 - accuracy: 0.6613 - val_loss: 0.6659 - val_accuracy: 0.7174\n",
      "Epoch 5/50\n",
      "303/303 [==============================] - 60s 198ms/step - loss: 0.6847 - accuracy: 0.6739 - val_loss: 0.6187 - val_accuracy: 0.7380\n",
      "Epoch 6/50\n",
      "303/303 [==============================] - 60s 197ms/step - loss: 0.6455 - accuracy: 0.6991 - val_loss: 0.5927 - val_accuracy: 0.7545\n",
      "Epoch 7/50\n",
      "303/303 [==============================] - 60s 197ms/step - loss: 0.6212 - accuracy: 0.7078 - val_loss: 0.5560 - val_accuracy: 0.7645\n",
      "Epoch 8/50\n",
      "303/303 [==============================] - 60s 197ms/step - loss: 0.5927 - accuracy: 0.7275 - val_loss: 0.5275 - val_accuracy: 0.7744\n",
      "Epoch 9/50\n",
      "303/303 [==============================] - 60s 199ms/step - loss: 0.5634 - accuracy: 0.7371 - val_loss: 0.4990 - val_accuracy: 0.7847\n",
      "Epoch 10/50\n",
      "303/303 [==============================] - 59s 199ms/step - loss: 0.5460 - accuracy: 0.7499 - val_loss: 0.4860 - val_accuracy: 0.7955\n",
      "Epoch 11/50\n",
      "303/303 [==============================] - 60s 198ms/step - loss: 0.5295 - accuracy: 0.7575 - val_loss: 0.4758 - val_accuracy: 0.8004\n",
      "Epoch 12/50\n",
      "303/303 [==============================] - 61s 200ms/step - loss: 0.5138 - accuracy: 0.7725 - val_loss: 0.4624 - val_accuracy: 0.8004\n",
      "Epoch 13/50\n",
      "303/303 [==============================] - 64s 211ms/step - loss: 0.4919 - accuracy: 0.7813 - val_loss: 0.4550 - val_accuracy: 0.8045\n",
      "Epoch 14/50\n",
      "303/303 [==============================] - 67s 220ms/step - loss: 0.4668 - accuracy: 0.7921 - val_loss: 0.4714 - val_accuracy: 0.7992\n",
      "Epoch 15/50\n",
      "303/303 [==============================] - 65s 214ms/step - loss: 0.4567 - accuracy: 0.7980 - val_loss: 0.4676 - val_accuracy: 0.7975\n",
      "Epoch 16/50\n",
      "303/303 [==============================] - 66s 218ms/step - loss: 0.4345 - accuracy: 0.8079 - val_loss: 0.4441 - val_accuracy: 0.8112\n",
      "Epoch 17/50\n",
      "303/303 [==============================] - 64s 212ms/step - loss: 0.4143 - accuracy: 0.8166 - val_loss: 0.4224 - val_accuracy: 0.8174\n",
      "Epoch 18/50\n",
      "303/303 [==============================] - 63s 207ms/step - loss: 0.3987 - accuracy: 0.8249 - val_loss: 0.4276 - val_accuracy: 0.8128\n",
      "Epoch 19/50\n",
      "303/303 [==============================] - 66s 217ms/step - loss: 0.3937 - accuracy: 0.8315 - val_loss: 0.4033 - val_accuracy: 0.8322\n",
      "Epoch 20/50\n",
      "303/303 [==============================] - 67s 221ms/step - loss: 0.3702 - accuracy: 0.8386 - val_loss: 0.3924 - val_accuracy: 0.8360\n",
      "Epoch 21/50\n",
      "303/303 [==============================] - 67s 222ms/step - loss: 0.3624 - accuracy: 0.8491 - val_loss: 0.3899 - val_accuracy: 0.8310\n",
      "Epoch 22/50\n",
      "303/303 [==============================] - 68s 223ms/step - loss: 0.3524 - accuracy: 0.8504 - val_loss: 0.3750 - val_accuracy: 0.8368\n",
      "Epoch 23/50\n",
      "303/303 [==============================] - 66s 218ms/step - loss: 0.3292 - accuracy: 0.8613 - val_loss: 0.3736 - val_accuracy: 0.8405\n",
      "Epoch 24/50\n",
      "303/303 [==============================] - 67s 221ms/step - loss: 0.3137 - accuracy: 0.8720 - val_loss: 0.3764 - val_accuracy: 0.8434\n",
      "Epoch 25/50\n",
      "303/303 [==============================] - 68s 223ms/step - loss: 0.2952 - accuracy: 0.8797 - val_loss: 0.3957 - val_accuracy: 0.8256\n",
      "Epoch 26/50\n",
      "303/303 [==============================] - 68s 223ms/step - loss: 0.2814 - accuracy: 0.8799 - val_loss: 0.3475 - val_accuracy: 0.8525\n",
      "Epoch 27/50\n",
      "303/303 [==============================] - 67s 222ms/step - loss: 0.2819 - accuracy: 0.8838 - val_loss: 0.3611 - val_accuracy: 0.8455\n",
      "Epoch 28/50\n",
      "303/303 [==============================] - 68s 224ms/step - loss: 0.2666 - accuracy: 0.8918 - val_loss: 0.3518 - val_accuracy: 0.8525\n",
      "Epoch 29/50\n",
      "303/303 [==============================] - 62s 204ms/step - loss: 0.2487 - accuracy: 0.9001 - val_loss: 0.3556 - val_accuracy: 0.8533\n",
      "Epoch 30/50\n",
      "303/303 [==============================] - 62s 205ms/step - loss: 0.2393 - accuracy: 0.9045 - val_loss: 0.3116 - val_accuracy: 0.8719\n",
      "Epoch 31/50\n",
      "303/303 [==============================] - 62s 203ms/step - loss: 0.2343 - accuracy: 0.9047 - val_loss: 0.3148 - val_accuracy: 0.8678\n",
      "Epoch 32/50\n",
      "303/303 [==============================] - 61s 202ms/step - loss: 0.2198 - accuracy: 0.9145 - val_loss: 0.3057 - val_accuracy: 0.8682\n",
      "Epoch 33/50\n",
      "303/303 [==============================] - 59s 195ms/step - loss: 0.2033 - accuracy: 0.9220 - val_loss: 0.3022 - val_accuracy: 0.8690\n",
      "Epoch 34/50\n",
      "303/303 [==============================] - 59s 195ms/step - loss: 0.1992 - accuracy: 0.9236 - val_loss: 0.3405 - val_accuracy: 0.8583\n",
      "Epoch 35/50\n",
      "303/303 [==============================] - 59s 196ms/step - loss: 0.1883 - accuracy: 0.9289 - val_loss: 0.3163 - val_accuracy: 0.8773\n",
      "Epoch 36/50\n",
      "303/303 [==============================] - 59s 194ms/step - loss: 0.1813 - accuracy: 0.9304 - val_loss: 0.3763 - val_accuracy: 0.8574\n",
      "Epoch 37/50\n",
      "303/303 [==============================] - 59s 195ms/step - loss: 0.1689 - accuracy: 0.9372 - val_loss: 0.4085 - val_accuracy: 0.8413\n",
      "Epoch 38/50\n",
      "303/303 [==============================] - 59s 194ms/step - loss: 0.1566 - accuracy: 0.9405 - val_loss: 0.3578 - val_accuracy: 0.8612\n",
      "Modelo entrenado y guardado correctamente.\n"
     ]
    }
   ],
   "source": [
    "epochs = 50\n",
    "model.fit(train_generator, validation_data=val_generator, epochs=epochs, callbacks=[early_stopping])\n",
    "model.save(\"models/modelo.keras\")\n",
    "print(\"Modelo entrenado y guardado correctamente.\")"
   ]
  },
  {
   "cell_type": "code",
   "execution_count": 11,
   "metadata": {},
   "outputs": [
    {
     "name": "stderr",
     "output_type": "stream",
     "text": [
      "2025-04-16 00:15:26.141072: W tensorflow/tsl/framework/cpu_allocator_impl.cc:83] Allocation of 1457111040 exceeds 10% of free system memory.\n",
      "2025-04-16 00:15:27.454764: W tensorflow/tsl/framework/cpu_allocator_impl.cc:83] Allocation of 1457111040 exceeds 10% of free system memory.\n"
     ]
    },
    {
     "name": "stdout",
     "output_type": "stream",
     "text": [
      "76/76 [==============================] - 5s 53ms/step\n"
     ]
    },
    {
     "data": {
      "image/png": "[encoded data removed]",
      "text/plain": [
       "<Figure size 600x500 with 2 Axes>"
      ]
     },
     "metadata": {},
     "output_type": "display_data"
    },
    {
     "name": "stdout",
     "output_type": "stream",
     "text": [
      "              precision    recall  f1-score   support\n",
      "\n",
      "        tiki       0.78      0.80      0.79       734\n",
      "   casi_tiki       0.89      0.84      0.86       813\n",
      "    descarte       0.93      0.96      0.94       873\n",
      "\n",
      "    accuracy                           0.87      2420\n",
      "   macro avg       0.87      0.86      0.86      2420\n",
      "weighted avg       0.87      0.87      0.87      2420\n",
      "\n"
     ]
    }
   ],
   "source": [
    "# Evaluación con matriz de confusión\n",
    "model = keras.models.load_model(\"models/modelo.keras\")\n",
    "\n",
    "y_pred = np.argmax(model.predict(X_val), axis=1)\n",
    "y_true = np.argmax(y_val, axis=1)\n",
    "\n",
    "cm = confusion_matrix(y_true, y_pred)\n",
    "plt.figure(figsize=(6, 5))\n",
    "sns.heatmap(cm, annot=True, fmt='d', cmap='Blues', xticklabels=categorias, yticklabels=categorias)\n",
    "plt.xlabel(\"Predicción\")\n",
    "plt.ylabel(\"Real\")\n",
    "plt.title(\"Matriz de Confusión\")\n",
    "plt.show()\n",
    "\n",
    "print(classification_report(y_true, y_pred, target_names=categorias))"
   ]
  }
 ],
 "metadata": {
  "kernelspec": {
   "display_name": "Python 3 (ipykernel)",
   "language": "python",
   "name": "python3"
  },
  "language_info": {
   "codemirror_mode": {
    "name": "ipython",
    "version": 3
   },
   "file_extension": ".py",
   "mimetype": "text/x-python",
   "name": "python",
   "nbconvert_exporter": "python",
   "pygments_lexer": "ipython3",
   "version": "3.8.10"
  }
 },
 "nbformat": 4,
 "nbformat_minor": 2
}
